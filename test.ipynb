{
 "nbformat": 4,
 "nbformat_minor": 2,
 "metadata": {
  "language_info": {
   "name": "python",
   "codemirror_mode": {
    "name": "ipython",
    "version": 3
   },
   "version": "3.6.8-final"
  },
  "orig_nbformat": 2,
  "file_extension": ".py",
  "mimetype": "text/x-python",
  "name": "python",
  "npconvert_exporter": "python",
  "pygments_lexer": "ipython3",
  "version": 3,
  "kernelspec": {
   "name": "python36864bit02a12abe67fb40ff9203cb15eceda375",
   "display_name": "Python 3.6.8 64-bit"
  }
 },
 "cells": [
  {
   "cell_type": "code",
   "execution_count": 65,
   "metadata": {},
   "outputs": [
    {
     "output_type": "execute_result",
     "data": {
      "text/plain": "<selenium.webdriver.chrome.webdriver.WebDriver (session=\"847916dbb0c60114d2b1902576344231\")>"
     },
     "metadata": {},
     "execution_count": 65
    }
   ],
   "source": [
    "from selenium import webdriver\n",
    "from selenium.webdriver.common.keys import Keys\n",
    "import sys\n",
    "import logging\n",
    "import os\n",
    "\n",
    "rootFolder=os.getcwd()+\"/\"\n",
    "baseFolder=rootFolder+\"temp/\"   \n",
    "chromeProfilePath=baseFolder+'ChromeProfile'\n",
    "chromeWebDriverPath = '/usr/lib/chromium-browser/chromedriver'\n",
    "refreshUrl='https://onlineplus.mofidonline.com/Home/Default/page-1'\n",
    "\n",
    "options = webdriver.ChromeOptions()\n",
    "# if not (showUI):\n",
    "#     options.add_argument('headless')\n",
    "#     options.add_argument('window-size=1920x1080')\n",
    "#     options.add_argument(\"disable-gpu\")\n",
    "options.add_argument(\"--log-level=3\");\n",
    "options.add_argument(\"user-data-dir=\"+chromeProfilePath) #Path to your chrome profile\n",
    "driver = webdriver.Chrome(executable_path=chromeWebDriverPath, options=options)\n",
    "driver.get(refreshUrl)\n",
    "driver"
   ]
  },
  {
   "cell_type": "code",
   "execution_count": 66,
   "metadata": {},
   "outputs": [],
   "source": [
    "def getMofidAccountData():\n",
    "    import tinydb\n",
    "    securitySettingFilename=rootFolder+'securitySetting.json'\n",
    "    username=\"TypeUserNameIn:\"+securitySettingFilename\n",
    "    password=\"TypePasswordIn:\"+securitySettingFilename\n",
    "    mofidAccountTable=\"mofidAccount\"\n",
    "    try:\n",
    "        db = tinydb.TinyDB(securitySettingFilename)\n",
    "        userTable = db.table(mofidAccountTable)\n",
    "        user = userTable.all()\n",
    "        username=user[0][\"Username\"]\n",
    "        password=user[0][\"Password\"]\n",
    "        db.close()\n",
    "    except:\n",
    "        print(\"Error in username and password Easy Trader.\")\n",
    "        db.purge_table(mofidAccountTable)\n",
    "        userTable = db.table(mofidAccountTable)\n",
    "        userTable.insert({\"Username\":username, \"Password\":password})\n",
    "        db.close()\n",
    "    return {\"username\":username, \"password\":password}\n",
    "def checkIsLogin():\n",
    "    driver.switch_to.window(driver.window_handles[0])\n",
    "    #<a class=\"signout \" href=\"/Account/Logout\">\n",
    "    inputStr=\"//a[@class='signout ' and @href='/Account/Logout']\"\n",
    "    signOutElems = driver.find_elements_by_xpath(inputStr) \n",
    "    if (signOutElems):\n",
    "        return True\n",
    "    return False\n",
    "def refresh():\n",
    "    driver.switch_to.window(driver.window_handles[0])\n",
    "    driver.refresh()\n",
    "    #logger.info(str(datetime.datetime.now())+\" Refreshed..\")"
   ]
  },
  {
   "cell_type": "code",
   "execution_count": 67,
   "metadata": {},
   "outputs": [
    {
     "output_type": "stream",
     "name": "stderr",
     "text": "/home/me/.local/lib/python3.6/site-packages/ipykernel_launcher.py:40: DeprecationWarning: use driver.switch_to.default_content instead\n"
    }
   ],
   "source": [
    "def loginWithMofidAccount():\n",
    "    import time\n",
    "    while(True):\n",
    "        refresh()\n",
    "        time.sleep(2)\n",
    "        if (checkIsLogin()):\n",
    "            break \n",
    "        driver.get(refreshUrl)\n",
    "        elem = driver.find_element_by_class_name(\"mofid__input-button\")\n",
    "        elem.click()\n",
    "\n",
    "        counter=0\n",
    "        mofidLoginWindowExist=False\n",
    "        while(True):\n",
    "            if (len(driver.window_handles)==2):\n",
    "                mofidLoginWindowExist=True\n",
    "                break\n",
    "            else:\n",
    "                time.sleep(1)\n",
    "                counter+=1\n",
    "                if counter>10:break\n",
    "        if (mofidLoginWindowExist):\n",
    "            driver.switch_to.window(driver.window_handles[1])\n",
    "            username=driver.find_element_by_id(\"Username\")\n",
    "            password=driver.find_element_by_id(\"Password\")\n",
    "            loginButton=driver.find_element_by_id(\"submit_btn\")\n",
    "            mofidAccount=getMofidAccountData()\n",
    "            username.send_keys(mofidAccount[\"username\"])\n",
    "            password.send_keys(mofidAccount[\"password\"])\n",
    "            loginButton.click()\n",
    "        driver.switch_to.window(driver.window_handles[0])\n",
    "        if (checkIsLogin()):\n",
    "            break\n",
    "        time.sleep(10)\n",
    "        if (checkIsLogin()):\n",
    "            break    \n",
    "        time.sleep(45)\n",
    "        if (checkIsLogin()):\n",
    "            break   \n",
    "    driver.switch_to_default_content()    \n",
    "loginWithMofidAccount()    "
   ]
  },
  {
   "cell_type": "code",
   "execution_count": 12,
   "metadata": {},
   "outputs": [
    {
     "output_type": "execute_result",
     "data": {
      "text/plain": "['CDwindow-455F496E7F5BE0402322F475952A6333']"
     },
     "metadata": {},
     "execution_count": 12
    }
   ],
   "source": [
    "\n",
    "driver.window_handles"
   ]
  },
  {
   "cell_type": "code",
   "execution_count": null,
   "metadata": {},
   "outputs": [],
   "source": []
  }
 ]
}